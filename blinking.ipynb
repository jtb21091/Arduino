{
 "cells": [
  {
   "cell_type": "code",
   "execution_count": null,
   "id": "dfdd0e8e-3771-4b11-85e1-1954d9cad6e7",
   "metadata": {},
   "outputs": [],
   "source": [
    "// Define the pin for the built-in LED\n",
    "const int ledPin = 2; // GPIO2 (D4)\n",
    "\n",
    "void setup() {\n",
    "  // Initialize the LED pin as an output\n",
    "  pinMode(ledPin, OUTPUT);\n",
    "}\n",
    "\n",
    "void loop() {\n",
    "  // Turn the LED on (HIGH is the voltage level)\n",
    "  digitalWrite(ledPin, HIGH);\n",
    "  // Wait for a second\n",
    "  delay(1000);\n",
    "  // Turn the LED off by making the voltage LOW\n",
    "  digitalWrite(ledPin, LOW);\n",
    "  // Wait for a second\n",
    "  delay(1000);\n",
    "}\n"
   ]
  }
 ],
 "metadata": {
  "kernelspec": {
   "display_name": "Python 3 (ipykernel)",
   "language": "python",
   "name": "python3"
  },
  "language_info": {
   "codemirror_mode": {
    "name": "ipython",
    "version": 3
   },
   "file_extension": ".py",
   "mimetype": "text/x-python",
   "name": "python",
   "nbconvert_exporter": "python",
   "pygments_lexer": "ipython3",
   "version": "3.11.7"
  }
 },
 "nbformat": 4,
 "nbformat_minor": 5
}
